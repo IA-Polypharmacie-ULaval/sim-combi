{
 "cells": [
  {
   "cell_type": "code",
   "execution_count": 1,
   "metadata": {},
   "outputs": [],
   "source": [
    "import numpy as np\n",
    "import pandas as pd\n",
    "import matplotlib.pyplot as plt\n",
    "import matplotlib\n",
    "import viz_config\n",
    "import os\n",
    "from tqdm import tqdm\n",
    "# plt.rcParams['figure.dpi'] = 100\n",
    "matplotlib.use(\"Agg\")\n",
    "THRESH = 1.1\n"
   ]
  },
  {
   "cell_type": "code",
   "execution_count": 2,
   "metadata": {},
   "outputs": [
    {
     "name": "stderr",
     "output_type": "stream",
     "text": [
      " 38%|███▊      | 19/50 [02:02<02:57,  5.73s/it]/tmp/ipykernel_1756043/1798955512.py:36: RuntimeWarning: More than 20 figures have been opened. Figures created through the pyplot interface (`matplotlib.pyplot.figure`) are retained until explicitly closed and may consume too much memory. (To control this warning, see the rcParam `figure.max_open_warning`).\n",
      "  fig, (ax1, ax2, ax3) = plt.subplots(nrows=1, ncols=3)\n",
      "100%|██████████| 50/50 [05:24<00:00,  6.49s/it]\n"
     ]
    }
   ],
   "source": [
    "seeds = list(range(50))\n",
    "# seeds = [3]\n",
    "for s in tqdm(seeds):\n",
    "    datasets = [\n",
    "        # f\"../datasets/combinations/50_rx_100000_combis_4_patterns_{s}.csv\",\n",
    "        # f\"../datasets/combinations/500_rx_100000_combis_10_patterns_{s}.csv\",\n",
    "        f\"../datasets/combinations/500_rx_100000_combis_10_patterns_skew0_{s}.csv\",\n",
    "        # f\"../datasets/combinations/100_rx_100000_combis_10_patterns_{s}.csv\",\n",
    "        # f\"../datasets/combinations/1000_rx_100000_combis_10_patterns_{s}.csv\",\n",
    "    ]\n",
    "    for dataset_name in datasets:\n",
    "        actual_name = \"_\".join(dataset_name.split(\"/\")[-1].split(\"_\")[:-1])\n",
    "\n",
    "        # os.makedirs(f'images/{actual_name}/all/', exist_ok=True)\n",
    "        os.makedirs(f'images/{actual_name}/separate/', exist_ok=True)\n",
    "\n",
    "        dataset = pd.read_csv(dataset_name)\n",
    "\n",
    "        inter = dataset[dataset[\"inter\"] == True]\n",
    "        disjoint = dataset[dataset[\"inter\"] == False]\n",
    "\n",
    "        risks = dataset[\"risk\"]\n",
    "        risks_inter = inter[\"risk\"]\n",
    "        risks_disjoint = disjoint[\"risk\"]\n",
    "        risky = risks[risks > THRESH]\n",
    "\n",
    "        dists_inter = inter[\"dist\"]\n",
    "        dists_disjoint = disjoint[\"dist\"]\n",
    "\n",
    "        n_rx = dataset.shape[1] - 3\n",
    "\n",
    "        plt.violinplot(risks)\n",
    "        plt.savefig(f'images/{actual_name}/all/{s}.png')\n",
    "        plt.clf()\n",
    "\n",
    "        fig, (ax1, ax2, ax3) = plt.subplots(nrows=1, ncols=3)\n",
    "\n",
    "        ax1.violinplot(risks)\n",
    "        ax1.set_title(\"Totale\")\n",
    "        ax1.set_ylabel(\"RR\")\n",
    "        ax1.set_ylim(0, 2.5)\n",
    "        ax2.violinplot(risks_inter)\n",
    "        ax2.set_title(\"Intersection avec patron\")\n",
    "        ax2.set_ylim(0, 2.5)\n",
    "        ax3.violinplot(risks_disjoint)\n",
    "        ax3.set_title(\"Disjointes\")\n",
    "        ax3.set_ylim(0, 2.5)\n",
    "        # ax4.violinplot(risky)\n",
    "        # ax4.set_title(\"Distribution de tous les RR au dessus d'un seuil de 1.1\")\n",
    "        # plt.show()\n",
    "        plt.savefig(f'images/{actual_name}/separate/{s}.png')\n",
    "        plt.clf()"
   ]
  },
  {
   "cell_type": "markdown",
   "metadata": {},
   "source": [
    "# Viz 1"
   ]
  },
  {
   "cell_type": "code",
   "execution_count": null,
   "metadata": {},
   "outputs": [
    {
     "data": {
      "text/plain": [
       "{'bodies': [<matplotlib.collections.PolyCollection at 0x7f4aaf996910>],\n",
       " 'cmaxes': <matplotlib.collections.LineCollection at 0x7f4aaf953340>,\n",
       " 'cmins': <matplotlib.collections.LineCollection at 0x7f4aaf9962b0>,\n",
       " 'cbars': <matplotlib.collections.LineCollection at 0x7f4aaf996430>}"
      ]
     },
     "execution_count": 9,
     "metadata": {},
     "output_type": "execute_result"
    }
   ],
   "source": [
    "dataset_name = f\"../datasets/combinations/50_rx_100000_combis_4_patterns_0.csv\"\n",
    "actual_name = \"_\".join(dataset_name.split(\"/\")[-1].split(\"_\")[:-1])\n",
    "# os.makedirs(f'images/{actual_name}/all/', exist_ok=True)\n",
    "# os.makedirs(f'images/{actual_name}/separate/', exist_ok=True)\n",
    "\n",
    "dataset = pd.read_csv(dataset_name)\n",
    "\n",
    "inter = dataset[dataset[\"inter\"] == True]\n",
    "disjoint = dataset[dataset[\"inter\"] == False]\n",
    "\n",
    "risks = dataset[\"risk\"]\n",
    "risks_inter = inter[\"risk\"]\n",
    "risks_disjoint = disjoint[\"risk\"]\n",
    "risky = risks[risks > THRESH]\n",
    "\n",
    "dists_inter = inter[\"dist\"]\n",
    "dists_disjoint = disjoint[\"dist\"]\n",
    "\n",
    "n_rx = dataset.shape[1] - 3\n",
    "plt.title(\"RR distribution: \" + actual_name.replace(\"_\", \"\\_\"))\n",
    "plt.violinplot(risks)\n"
   ]
  },
  {
   "cell_type": "code",
   "execution_count": null,
   "metadata": {},
   "outputs": [
    {
     "data": {
      "text/plain": [
       "Text(0.5, 1.0, 'RR distribution: 50\\\\_rx\\\\_100000\\\\_combis\\\\_4\\\\_patterns')"
      ]
     },
     "execution_count": 10,
     "metadata": {},
     "output_type": "execute_result"
    }
   ],
   "source": [
    "plt.violinplot([risks_inter, risks_disjoint, risky],)\n",
    "plt.title(\"RR distribution: \" + actual_name.replace(\"_\", \"\\_\"))\n"
   ]
  },
  {
   "cell_type": "code",
   "execution_count": null,
   "metadata": {},
   "outputs": [
    {
     "data": {
      "text/plain": [
       "Text(65.85817976830592, 0.5, 'Risque relatif')"
      ]
     },
     "execution_count": 11,
     "metadata": {},
     "output_type": "execute_result"
    }
   ],
   "source": [
    "plt.bar(\n",
    "    [\"Avec intersection\", \"Disjointe\"],\n",
    "    [risks_inter.mean(), risks_disjoint.mean()],\n",
    "    yerr=[risks_inter.std(), risks_disjoint.std()],\n",
    ")\n",
    "plt.ylim(0, 4)\n",
    "\n",
    "plt.title(\"Risque relatif selon la relation des combinaisons au patron dangereux le plus proche\")\n",
    "plt.ylabel(\"Risque relatif\")"
   ]
  },
  {
   "cell_type": "code",
   "execution_count": null,
   "metadata": {},
   "outputs": [
    {
     "data": {
      "text/plain": [
       "Text(65.85817976830592, 0.5, 'Risque relatif')"
      ]
     },
     "execution_count": 12,
     "metadata": {},
     "output_type": "execute_result"
    }
   ],
   "source": [
    "plt.boxplot(\n",
    "    [risks_inter, risks_disjoint],\n",
    "    labels=[\"Avec intersection\", \"Disjoint\"]\n",
    ")\n",
    "\n",
    "plt.title(\"Risque relatif selon la relation des combinaisons au patron dangereux le plus proche\")\n",
    "plt.ylabel(\"Risque relatif\")"
   ]
  },
  {
   "cell_type": "code",
   "execution_count": null,
   "metadata": {},
   "outputs": [
    {
     "name": "stderr",
     "output_type": "stream",
     "text": [
      "/tmp/ipykernel_1875133/3572467176.py:6: UserWarning: Matplotlib is currently using agg, which is a non-GUI backend, so cannot show the figure.\n",
      "  plt.show()\n"
     ]
    }
   ],
   "source": [
    "plt.scatter(x=dists_inter, y=risks_inter, color=\"green\", alpha=0.01)\n",
    "plt.scatter(x=dists_disjoint, y=risks_disjoint, color=\"red\", alpha=0.01)\n",
    "plt.title(\"Risque relatif selon la distance au patron dangereux le plus proche\")\n",
    "plt.xlabel(\"Distance au patron le plus proche\")\n",
    "plt.ylabel(\"Risque relatif\")\n",
    "plt.show()"
   ]
  },
  {
   "cell_type": "code",
   "execution_count": null,
   "metadata": {},
   "outputs": [
    {
     "name": "stderr",
     "output_type": "stream",
     "text": [
      "/tmp/ipykernel_1875133/2088479236.py:2: RuntimeWarning: Mean of empty slice.\n",
      "  means = [v.mean() for v in risks_val]\n",
      "/home/quo/Documents/Maitrise/venv/lib/python3.8/site-packages/numpy/core/_methods.py:189: RuntimeWarning: invalid value encountered in double_scalars\n",
      "  ret = ret.dtype.type(ret / rcount)\n",
      "/home/quo/Documents/Maitrise/venv/lib/python3.8/site-packages/numpy/core/_methods.py:262: RuntimeWarning: Degrees of freedom <= 0 for slice\n",
      "  ret = _var(a, axis=axis, dtype=dtype, out=out, ddof=ddof,\n",
      "/home/quo/Documents/Maitrise/venv/lib/python3.8/site-packages/numpy/core/_methods.py:222: RuntimeWarning: invalid value encountered in true_divide\n",
      "  arrmean = um.true_divide(arrmean, div, out=arrmean, casting='unsafe',\n",
      "/home/quo/Documents/Maitrise/venv/lib/python3.8/site-packages/numpy/core/_methods.py:254: RuntimeWarning: invalid value encountered in double_scalars\n",
      "  ret = ret.dtype.type(ret / rcount)\n"
     ]
    },
    {
     "data": {
      "text/plain": [
       "Text(65.85817976830592, 0.5, 'Risque relatif')"
      ]
     },
     "execution_count": 14,
     "metadata": {},
     "output_type": "execute_result"
    }
   ],
   "source": [
    "risks_val = [dataset[\"risk\"][dataset[\"dist\"] == i].to_numpy() for i in range(n_rx)]\n",
    "means = [v.mean() for v in risks_val]\n",
    "stds = [v.std() for v in risks_val]\n",
    "plt.bar(\n",
    "    x=[i for i in range(n_rx)],\n",
    "    height=means,\n",
    "    yerr=stds,\n",
    ")\n",
    "plt.ylim(0, 3)\n",
    "plt.title(\"Risque relatif selon la relation des combinaisons au patron dangereux le plus proche\")\n",
    "plt.ylabel(\"Risque relatif\")"
   ]
  },
  {
   "cell_type": "code",
   "execution_count": null,
   "metadata": {},
   "outputs": [],
   "source": []
  }
 ],
 "metadata": {
  "kernelspec": {
   "display_name": "Python 3.10.4 ('venv')",
   "language": "python",
   "name": "python3"
  },
  "language_info": {
   "codemirror_mode": {
    "name": "ipython",
    "version": 3
   },
   "file_extension": ".py",
   "mimetype": "text/x-python",
   "name": "python",
   "nbconvert_exporter": "python",
   "pygments_lexer": "ipython3",
   "version": "3.8.13"
  },
  "orig_nbformat": 4,
  "vscode": {
   "interpreter": {
    "hash": "7ec05a26f12930ec341a8988c0de5d31e9cfb37c98ea12af5353828508f2c236"
   }
  }
 },
 "nbformat": 4,
 "nbformat_minor": 2
}
