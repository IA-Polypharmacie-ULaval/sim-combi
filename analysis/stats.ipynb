{
 "cells": [
  {
   "cell_type": "code",
   "execution_count": 8,
   "metadata": {},
   "outputs": [],
   "source": [
    "import numpy as np\n",
    "import pandas as pd\n",
    "THRESH = 1.3"
   ]
  },
  {
   "cell_type": "code",
   "execution_count": 9,
   "metadata": {},
   "outputs": [
    {
     "name": "stdout",
     "output_type": "stream",
     "text": [
      "actual_name='500_rx_100000_combis_10_patterns_skew0_35.csv', percent_risky=1.876\n",
      "actual_name='500_rx_100000_combis_10_patterns_23.csv', percent_risky=1.496\n"
     ]
    }
   ],
   "source": [
    "# dict_ = {50: [3], 100: [35], 500: [5, 11, 16], 1000: [25]}\n",
    "dict_ = {\"500_skew0\": [35], \"500\": [23]}\n",
    "\n",
    "for k, values in dict_.items():\n",
    "    for v in values:\n",
    "        if k == 50:\n",
    "            actual_name = f\"{k}_rx_100000_combis_4_patterns_{v}.csv\"\n",
    "        elif \"skew0\" in k:\n",
    "            n, s = k.split(\"_\")\n",
    "            actual_name = f\"{n}_rx_100000_combis_10_patterns_{s}_{v}.csv\"\n",
    "        else:\n",
    "            actual_name = f\"{k}_rx_100000_combis_10_patterns_{v}.csv\"\n",
    "\n",
    "\n",
    "        dataset_name = f\"../datasets/combinations/{actual_name}\"\n",
    "\n",
    "        dataset = pd.read_csv(dataset_name)\n",
    "\n",
    "        inter = dataset[dataset[\"inter\"] == True]\n",
    "        disjoint = dataset[dataset[\"inter\"] == False]\n",
    "\n",
    "        risks = dataset[\"risk\"]\n",
    "        risks_inter = inter[\"risk\"]\n",
    "        risks_disjoint = disjoint[\"risk\"]\n",
    "        risky = risks[risks > THRESH]\n",
    "\n",
    "        dists_inter = inter[\"dist\"]\n",
    "        dists_disjoint = disjoint[\"dist\"]\n",
    "\n",
    "        n_rx = dataset.shape[1] - 3\n",
    "        percent_risky = len(risky) / len(risks) * 100\n",
    "\n",
    "        print(f\"{actual_name=}, {percent_risky=}\")"
   ]
  },
  {
   "cell_type": "code",
   "execution_count": 4,
   "metadata": {},
   "outputs": [],
   "source": [
    "mi = min(risks)\n",
    "ma = max(risks)\n",
    "span = ma - mi\n",
    "span_risky = ma - 1.1\n",
    "span_safe = 1.1 - mi\n"
   ]
  },
  {
   "cell_type": "code",
   "execution_count": 5,
   "metadata": {},
   "outputs": [
    {
     "data": {
      "text/plain": [
       "(0.43589743589743585, 0.5641025641025642)"
      ]
     },
     "execution_count": 5,
     "metadata": {},
     "output_type": "execute_result"
    }
   ],
   "source": [
    "span_risky / span, span_safe / span"
   ]
  },
  {
   "cell_type": "code",
   "execution_count": 7,
   "metadata": {},
   "outputs": [
    {
     "data": {
      "text/plain": [
       "1.1"
      ]
     },
     "execution_count": 7,
     "metadata": {},
     "output_type": "execute_result"
    }
   ],
   "source": [
    "THRESH"
   ]
  },
  {
   "cell_type": "code",
   "execution_count": null,
   "metadata": {},
   "outputs": [],
   "source": []
  }
 ],
 "metadata": {
  "kernelspec": {
   "display_name": "Python 3.8.13 ('venv')",
   "language": "python",
   "name": "python3"
  },
  "language_info": {
   "codemirror_mode": {
    "name": "ipython",
    "version": 3
   },
   "file_extension": ".py",
   "mimetype": "text/x-python",
   "name": "python",
   "nbconvert_exporter": "python",
   "pygments_lexer": "ipython3",
   "version": "3.8.13"
  },
  "orig_nbformat": 4,
  "vscode": {
   "interpreter": {
    "hash": "7ec05a26f12930ec341a8988c0de5d31e9cfb37c98ea12af5353828508f2c236"
   }
  }
 },
 "nbformat": 4,
 "nbformat_minor": 2
}
