{
 "cells": [
  {
   "cell_type": "code",
   "execution_count": 1,
   "metadata": {},
   "outputs": [
    {
     "data": {
      "image/png": "[encoded data removed]",
      "text/plain": [
       "<Figure size 198.992x122.984 with 1 Axes>"
      ]
     },
     "metadata": {},
     "output_type": "display_data"
    }
   ],
   "source": [
    "import matplotlib.pyplot as plt\n",
    "import numpy as np\n",
    "from scipy.stats import gaussian_kde\n",
    "import viz_config\n",
    "\n",
    "figsize = viz_config.set_size(332.89723, 0.6)\n",
    "# figsize = viz_config.set_size(\"aaai\")\n",
    "data = [0] * 10  + [0.7] * 2 + [1.1] * 1\n",
    "density = gaussian_kde(data)\n",
    "xs = np.linspace(0, 3, 200)\n",
    "density.covariance_factor = lambda: 1\n",
    "density._compute_covariance()\n",
    "\n",
    "plt.figure(figsize=figsize)\n",
    "plt.xlabel(\"RR\")\n",
    "plt.ylabel(\"Density\")\n",
    "plt.plot(xs, density(xs), color=\"black\")\n",
    "\n",
    "plt.axvspan(0, 1, color=\"green\", alpha=0.3, label=\"Safe\")\n",
    "plt.axvspan(1, 3, color=\"red\", alpha=0.3, label=\"Harmful\")\n",
    "# plt.axvline(1.1, 0, 1.3, color=\"black\", linestyle=\"dashed\", label=\"Threshold\")\n",
    "plt.yticks([], [])\n",
    "plt.legend()\n",
    "plt.tight_layout()\n",
    "\n",
    "plt.savefig(\"images/examples/example_dens_eng.pdf\",bbox_inches='tight',pad_inches = 0, format=\"pdf\")\n"
   ]
  },
  {
   "cell_type": "code",
   "execution_count": null,
   "metadata": {},
   "outputs": [],
   "source": []
  }
 ],
 "metadata": {
  "kernelspec": {
   "display_name": "Python 3.8.14 ('venv')",
   "language": "python",
   "name": "python3"
  },
  "language_info": {
   "codemirror_mode": {
    "name": "ipython",
    "version": 3
   },
   "file_extension": ".py",
   "mimetype": "text/x-python",
   "name": "python",
   "nbconvert_exporter": "python",
   "pygments_lexer": "ipython3",
   "version": "3.8.15"
  },
  "orig_nbformat": 4,
  "vscode": {
   "interpreter": {
    "hash": "befb126eefed1eac3999ea03cd33c04972fea3594bbbdccc0dd405378ee4d8b3"
   }
  }
 },
 "nbformat": 4,
 "nbformat_minor": 2
}
