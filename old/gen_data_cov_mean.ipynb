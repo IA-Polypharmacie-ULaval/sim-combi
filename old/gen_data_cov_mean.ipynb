{
 "cells": [
  {
   "cell_type": "code",
   "execution_count": 25,
   "metadata": {},
   "outputs": [],
   "source": [
    "import numpy as np\n",
    "import pandas as pd\n",
    "from tqdm import tqdm\n",
    "\n",
    "mean_vec = np.load(\"new_data/parameters/means.npy\")\n",
    "cov_mat = np.load(\"new_data/parameters/cov_mat.npy\")\n",
    "col_names = np.load(\"new_data/describe/column_names.npy\", allow_pickle=True)\n"
   ]
  },
  {
   "cell_type": "code",
   "execution_count": 18,
   "metadata": {},
   "outputs": [],
   "source": []
  },
  {
   "cell_type": "code",
   "execution_count": 26,
   "metadata": {},
   "outputs": [
    {
     "name": "stderr",
     "output_type": "stream",
     "text": [
      "100%|██████████| 25/25 [01:36<00:00,  3.88s/it]\n"
     ]
    }
   ],
   "source": [
    "\n",
    "num_exp = 25\n",
    "cov_norms = [0] * num_exp\n",
    "mean_norms = [0] * num_exp\n",
    "\n",
    "for i in tqdm(range(num_exp)):\n",
    "    sample = np.random.multivariate_normal(mean=mean_vec, cov=cov_mat, size=(10000))\n",
    "    sample = np.where(sample > 0.5, 1, 0)\n",
    "    new_cov = np.cov(sample, rowvar=False)\n",
    "    new_mean = np.mean(sample, axis=0)\n",
    "    cov_norms.append(np.linalg.norm(cov_mat - new_cov, ord=2))\n",
    "    mean_norms.append(np.linalg.norm(mean_vec - new_mean, ord=2))\n"
   ]
  },
  {
   "cell_type": "code",
   "execution_count": 27,
   "metadata": {},
   "outputs": [
    {
     "name": "stdout",
     "output_type": "stream",
     "text": [
      "Cov. norms 0.030276361311950186 +- 0.030284843878432045\n",
      "Mean norms 0.0695665614150802 +- 0.06956889563813631\n"
     ]
    }
   ],
   "source": [
    "print(f\"Cov. norms {np.mean(cov_norms)} +- {np.std(cov_norms)}\")\n",
    "print(f\"Mean norms {np.mean(mean_norms)} +- {np.std(mean_norms)}\")"
   ]
  },
  {
   "cell_type": "code",
   "execution_count": 29,
   "metadata": {},
   "outputs": [
    {
     "name": "stderr",
     "output_type": "stream",
     "text": [
      "100%|██████████| 25/25 [01:23<00:00,  3.36s/it]\n"
     ]
    }
   ],
   "source": [
    "\n",
    "num_exp = 25\n",
    "cov_norms = [0] * num_exp\n",
    "mean_norms = [0] * num_exp\n",
    "\n",
    "for i in tqdm(range(num_exp)):\n",
    "    sample = np.random.multivariate_normal(mean=[0] * len(mean_vec), cov=cov_mat, size=(10000))\n",
    "    sample = np.where(sample > 0.5, 1, 0)\n",
    "    new_cov = np.cov(sample, rowvar=False)\n",
    "    new_mean = np.mean(sample, axis=0)\n",
    "    cov_norms.append(np.linalg.norm(cov_mat - new_cov, ord=2))\n",
    "    mean_norms.append(np.linalg.norm(mean_vec - new_mean, ord=2))"
   ]
  },
  {
   "cell_type": "code",
   "execution_count": 30,
   "metadata": {},
   "outputs": [
    {
     "name": "stdout",
     "output_type": "stream",
     "text": [
      "Cov. norms with 0 mean vector 0.04014749369865817 +- 0.04015189876544393\n",
      "Mean norms with 0 mean vector 0.08385165719165937 +- 0.08385391241147877\n"
     ]
    }
   ],
   "source": [
    "print(f\"Cov. norms with 0 mean vector {np.mean(cov_norms)} +- {np.std(cov_norms)}\")\n",
    "print(f\"Mean norms with 0 mean vector {np.mean(mean_norms)} +- {np.std(mean_norms)}\")"
   ]
  },
  {
   "cell_type": "code",
   "execution_count": null,
   "metadata": {},
   "outputs": [],
   "source": []
  }
 ],
 "metadata": {
  "interpreter": {
   "hash": "befb126eefed1eac3999ea03cd33c04972fea3594bbbdccc0dd405378ee4d8b3"
  },
  "kernelspec": {
   "display_name": "Python 3.9.9 64-bit ('venv': venv)",
   "language": "python",
   "name": "python3"
  },
  "language_info": {
   "codemirror_mode": {
    "name": "ipython",
    "version": 3
   },
   "file_extension": ".py",
   "mimetype": "text/x-python",
   "name": "python",
   "nbconvert_exporter": "python",
   "pygments_lexer": "ipython3",
   "version": "3.8.13"
  },
  "orig_nbformat": 4
 },
 "nbformat": 4,
 "nbformat_minor": 2
}
