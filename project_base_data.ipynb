{
 "cells": [
  {
   "cell_type": "code",
   "execution_count": 1,
   "metadata": {},
   "outputs": [],
   "source": [
    "import numpy as np\n",
    "import pandas as pd\n",
    "from math import ceil\n",
    "\n",
    "N_WINDOWS = 5.1e9"
   ]
  },
  {
   "cell_type": "code",
   "execution_count": 3,
   "metadata": {},
   "outputs": [
    {
     "name": "stderr",
     "output_type": "stream",
     "text": [
      "c:\\Users\\Quo\\Documents\\Maitrise\\venv\\lib\\site-packages\\pandas\\core\\frame.py:3645: SettingWithCopyWarning: \n",
      "A value is trying to be set on a copy of a slice from a DataFrame.\n",
      "Try using .loc[row_indexer,col_indexer] = value instead\n",
      "\n",
      "See the caveats in the documentation: https://pandas.pydata.org/pandas-docs/stable/user_guide/indexing.html#returning-a-view-versus-a-copy\n",
      "  self[col] = value\n",
      "c:\\Users\\Quo\\Documents\\Maitrise\\venv\\lib\\site-packages\\IPython\\core\\interactiveshell.py:3457: DtypeWarning: Columns (2,6,7) have mixed types.Specify dtype option on import or set low_memory=False.\n",
      "  exec(code_obj, self.user_global_ns, self.user_ns)\n"
     ]
    }
   ],
   "source": [
    "cols = [\"drug_name_A\", \"drug_name_B\", \"drug_name_C\", \"drug_name_D\", \"drug_name_E\"]\n",
    "df_out = pd.DataFrame([], columns=cols + [\"exact_exposure_count\"]) # Output dataframe\n",
    "unique_drugs = pd.DataFrame([], columns=[\"drug_name\"]) # All unique drug names, used for columns in projected dataset\n",
    "\n",
    "for i in range(1, 6):\n",
    "    fn = f\"base_data/db_drugs_{i}s.tsv\"\n",
    "    df = pd.read_csv(fn, delimiter=\"\\t\", float_precision=\"high\")\n",
    "    tmp_df = df[cols[:i] + [\"exact_exposure_count\"]]\n",
    "    stacked_drugs = df[cols[:i]].T.stack().reset_index(name=\"drug_name\")\n",
    "    unique_drugs = pd.concat([unique_drugs, stacked_drugs])\n",
    "    tmp_df[cols[i:]] = float(\"nan\")\n",
    "\n",
    "    df_out = pd.concat([df_out, tmp_df])\n"
   ]
  },
  {
   "cell_type": "code",
   "execution_count": 4,
   "metadata": {},
   "outputs": [],
   "source": [
    "unique_drugs = unique_drugs[\"drug_name\"].unique()\n"
   ]
  },
  {
   "cell_type": "code",
   "execution_count": 5,
   "metadata": {},
   "outputs": [],
   "source": [
    "df_out = df_out.replace(r\"^\\s*$\", np.nan, regex=True)  # Replace empty strings by np.nan\n",
    "\n",
    "df_out = df_out.dropna(\n",
    "    subset=[\"exact_exposure_count\"]\n",
    ")  # Drop rows which have no information on fraction\n",
    "df_out[\"exact_exposure_count\"] = pd.to_numeric(\n",
    "    df_out[\"exact_exposure_count\"], errors=\"coerce\"\n",
    ")\n",
    "df_out = df_out.dropna(\n",
    "    subset=[\"exact_exposure_count\"]\n",
    ")  # Drop rows which have no information on fraction\n",
    "\n",
    "\n",
    "df_out[\"ratio_exact\"] = (\n",
    "    df_out[\"exact_exposure_count\"] / N_WINDOWS\n",
    ")  # Find the ratio of exact exposures across all the windows of the source dataset\n",
    "\n",
    "df_out[\"ratio_exact\"] = df_out[\"ratio_exact\"] * (\n",
    "    1 / df_out[\"ratio_exact\"].sum()\n",
    ")  # Rescale so that current combinations are basically all that ever existed (rescale sum of ratios to 1)\n",
    "df_out = df_out[df_out[\"ratio_exact\"] != 0]\n",
    "\n",
    "df_out = df_out.drop(\n",
    "    labels=[\"exact_exposure_count\"], axis=1\n",
    ")  # Drop the exact count, so we can rescale the dataset to an arbitrary amount of observations\n"
   ]
  },
  {
   "cell_type": "code",
   "execution_count": 5,
   "metadata": {},
   "outputs": [
    {
     "name": "stdout",
     "output_type": "stream",
     "text": [
      "len(unique_drugs)=1180\n"
     ]
    }
   ],
   "source": [
    "print(f\"{len(unique_drugs)=}\")\n"
   ]
  },
  {
   "cell_type": "code",
   "execution_count": 6,
   "metadata": {},
   "outputs": [
    {
     "name": "stdout",
     "output_type": "stream",
     "text": [
      "Empty DataFrame\n",
      "Columns: [hydrochlorothiazide, thyroxine, lisinopril, simvastatin, ethinyl estradiol, acetaminophen, amlodipine, atorvastatin, metoprolol, metformin, hydrocodone, fluticasone, omeprazole, amoxicillin, atenolol, azithromycin, sertraline, zolpidem, albuterol, losartan, montelukast, valsartan, alprazolam, esomeprazole, norethindrone, bupropion, escitalopram, rosuvastatin, citalopram, furosemide, ezetimibe, pravastatin, estradiol, fluoxetine, clopidogrel, benazepril, fenofibrate, pantoprazole, oxycodone, prednisone, gabapentin, triamterene, salmeterol, ibuprofen, warfarin, venlafaxine, tramadol, meloxicam, fexofenadine, clonazepam, dextroamphetamine, olmesartan, mometasone, cyclobenzaprine, carvedilol, amphetamine, tamsulosin, norgestimate, duloxetine, clavulanate, lorazepam, estrogens, conjugated (usp), ciprofloxacin, lansoprazole, drospirenone, trazodone, allopurinol, levonorgestrel, naproxen, diltiazem, codeine, doxycycline, paroxetine, trimethoprim, alendronate, glipizide, pioglitazone, insulin glargine, lovastatin, clindamycin, sulfamethoxazole, triamcinolone, methylphenidate, cephalexin, ramipril, sitagliptin, ergocalciferol, valacyclovir, celecoxib, promethazine, diclofenac, spironolactone, glimepiride, amitriptyline, enalapril, glyburide, fluconazole, ranitidine, budesonide, methylprednisolone, ...]\n",
      "Index: []\n",
      "\n",
      "[0 rows x 1180 columns]\n"
     ]
    }
   ],
   "source": [
    "sample_dataset = pd.DataFrame([], columns=unique_drugs)\n",
    "num_rows_dataset = 100000"
   ]
  },
  {
   "cell_type": "code",
   "execution_count": 7,
   "metadata": {},
   "outputs": [],
   "source": [
    "for index, row in df_out.iterrows():\n",
    "    combination = tuple(row[:-1].dropna())\n",
    "    fraction = float(row[-1])\n",
    "    num_rows_combi = round(fraction * num_rows_dataset)\n",
    "    dic = {key: [1] for key in combination}\n",
    "    dummy_df = pd.DataFrame(dic, columns=unique_drugs).fillna(0)\n",
    "    dummy_df = pd.DataFrame(np.repeat(dummy_df.values, num_rows_combi, axis=0), columns=dummy_df.columns)\n",
    "\n",
    "    sample_dataset = pd.concat([sample_dataset, dummy_df])\n"
   ]
  },
  {
   "cell_type": "code",
   "execution_count": null,
   "metadata": {},
   "outputs": [],
   "source": [
    "sample_dataset.to_csv('new_data/sample_dataset.csv')"
   ]
  },
  {
   "cell_type": "code",
   "execution_count": null,
   "metadata": {},
   "outputs": [],
   "source": []
  }
 ],
 "metadata": {
  "interpreter": {
   "hash": "d7074b7c4a348c76f53c4973f49148425917fc9abc236bb5968d2ddc5e184768"
  },
  "kernelspec": {
   "display_name": "Python 3.8.10 64-bit ('venv': venv)",
   "language": "python",
   "name": "python3"
  },
  "language_info": {
   "codemirror_mode": {
    "name": "ipython",
    "version": 3
   },
   "file_extension": ".py",
   "mimetype": "text/x-python",
   "name": "python",
   "nbconvert_exporter": "python",
   "pygments_lexer": "ipython3",
   "version": "3.8.10"
  },
  "orig_nbformat": 4
 },
 "nbformat": 4,
 "nbformat_minor": 2
}
